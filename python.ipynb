s="()()"
right=0
        
        
left=0
listnew=list(s)
listtemp=[]
list1=[]
for i in range(len(listnew)):
    if("("==listnew[i]):
        right+=1
        if(right==1):
                
            listtemp.append(i)
   
                
    elif(")"==listnew[i]):
        left+=1
    diff=right-left
    
    if(diff==0):
        left=0
        right=0
                
        listtemp.append(i)       
for i in listtemp:
    listnew[i]=0
for i in listnew:
    if(i ==0):
        pass
    else:
        list1.append(i)
        

string="".join(list1)
print(string)
        
